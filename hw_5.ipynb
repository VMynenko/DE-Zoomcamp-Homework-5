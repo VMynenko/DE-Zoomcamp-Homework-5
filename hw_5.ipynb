{
 "cells": [
  {
   "cell_type": "code",
   "execution_count": 36,
   "id": "84bd3f83-2ee6-478e-812d-9c53b5c8bb57",
   "metadata": {},
   "outputs": [],
   "source": [
    "import requests\n",
    "from pyspark.sql import SparkSession\n",
    "import os\n",
    "from pyspark.sql.functions import to_date, col, unix_timestamp, max, count, asc"
   ]
  },
  {
   "cell_type": "code",
   "execution_count": 7,
   "id": "4bd246cd-3cd6-4bda-95f5-a776aa5b2887",
   "metadata": {},
   "outputs": [
    {
     "data": {
      "text/plain": [
       "'3.5.0'"
      ]
     },
     "execution_count": 7,
     "metadata": {},
     "output_type": "execute_result"
    }
   ],
   "source": [
    "spark.version"
   ]
  },
  {
   "cell_type": "code",
   "execution_count": 8,
   "id": "0661671d-1588-4a0f-b5a6-b38618a204cf",
   "metadata": {},
   "outputs": [],
   "source": [
    "url = \"https://d37ci6vzurychx.cloudfront.net/trip-data/yellow_tripdata_2024-10.parquet\"\n",
    "local_path = \"/tmp/downloaded_file.parquet\""
   ]
  },
  {
   "cell_type": "code",
   "execution_count": 9,
   "id": "160e8c89-fce1-4575-8792-621dfde7775c",
   "metadata": {},
   "outputs": [],
   "source": [
    "with open(local_path, 'wb') as f:\n",
    "    f.write(requests.get(url).content)"
   ]
  },
  {
   "cell_type": "code",
   "execution_count": 10,
   "id": "a93d91af-1085-473c-8a75-263e58735f6a",
   "metadata": {},
   "outputs": [],
   "source": [
    "spark = SparkSession.builder \\\n",
    "    .appName(\"HomeWork5\") \\\n",
    "    .getOrCreate()"
   ]
  },
  {
   "cell_type": "code",
   "execution_count": 11,
   "id": "099fc3cc-ebae-4b34-bcf7-35fa6a3962cf",
   "metadata": {},
   "outputs": [],
   "source": [
    "df = spark.read.parquet(local_path)"
   ]
  },
  {
   "cell_type": "code",
   "execution_count": 12,
   "id": "b3e199d2-90f7-41d3-8659-1d1b24bbe365",
   "metadata": {},
   "outputs": [
    {
     "name": "stdout",
     "output_type": "stream",
     "text": [
      "+--------+--------------------+---------------------+---------------+-------------+----------+------------------+------------+------------+------------+-----------+-----+-------+----------+------------+---------------------+------------+--------------------+-----------+\n",
      "|VendorID|tpep_pickup_datetime|tpep_dropoff_datetime|passenger_count|trip_distance|RatecodeID|store_and_fwd_flag|PULocationID|DOLocationID|payment_type|fare_amount|extra|mta_tax|tip_amount|tolls_amount|improvement_surcharge|total_amount|congestion_surcharge|Airport_fee|\n",
      "+--------+--------------------+---------------------+---------------+-------------+----------+------------------+------------+------------+------------+-----------+-----+-------+----------+------------+---------------------+------------+--------------------+-----------+\n",
      "|       2| 2024-10-01 00:30:44|  2024-10-01 00:48:26|              1|          3.0|         1|                 N|         162|         246|           1|       18.4|  1.0|    0.5|       1.5|         0.0|                  1.0|        24.9|                 2.5|        0.0|\n",
      "|       1| 2024-10-01 00:12:20|  2024-10-01 00:25:25|              1|          2.2|         1|                 N|          48|         236|           1|       14.2|  3.5|    0.5|       3.8|         0.0|                  1.0|        23.0|                 2.5|        0.0|\n",
      "|       1| 2024-10-01 00:04:46|  2024-10-01 00:13:52|              1|          2.7|         1|                 N|         142|          24|           1|       13.5|  3.5|    0.5|       3.7|         0.0|                  1.0|        22.2|                 2.5|        0.0|\n",
      "|       1| 2024-10-01 00:12:10|  2024-10-01 00:23:01|              1|          3.1|         1|                 N|         233|          75|           1|       14.2|  3.5|    0.5|       2.0|         0.0|                  1.0|        21.2|                 2.5|        0.0|\n",
      "|       1| 2024-10-01 00:30:22|  2024-10-01 00:30:39|              1|          0.0|         1|                 N|         262|         262|           3|        3.0|  3.5|    0.5|       0.0|         0.0|                  1.0|         8.0|                 2.5|        0.0|\n",
      "+--------+--------------------+---------------------+---------------+-------------+----------+------------------+------------+------------+------------+-----------+-----+-------+----------+------------+---------------------+------------+--------------------+-----------+\n",
      "only showing top 5 rows\n",
      "\n"
     ]
    }
   ],
   "source": [
    "df.show(5)"
   ]
  },
  {
   "cell_type": "code",
   "execution_count": 13,
   "id": "b0ef436e-cc71-4b1f-9469-7a9e22fd0c33",
   "metadata": {},
   "outputs": [],
   "source": [
    "df_repartitioned = df.repartition(4)"
   ]
  },
  {
   "cell_type": "code",
   "execution_count": 14,
   "id": "85a355eb-f3e0-4d2f-bf51-3312561be243",
   "metadata": {},
   "outputs": [],
   "source": [
    "output_path = \"/tmp/yellow_tripdata.parquet\"\n",
    "df_repartitioned.write.mode(\"overwrite\").parquet(output_path)"
   ]
  },
  {
   "cell_type": "code",
   "execution_count": 18,
   "id": "60090153-a764-4acd-8fe7-5ff14a9afe4c",
   "metadata": {},
   "outputs": [],
   "source": [
    "files = [f for f in os.listdir(output_path) if f.endswith(\".parquet\")]\n",
    "total_size = sum(os.path.getsize(os.path.join(output_path, f)) for f in files)\n",
    "average_size = total_size / len(files) if files else 0"
   ]
  },
  {
   "cell_type": "code",
   "execution_count": 24,
   "id": "b9008b87-151f-4b58-b4c5-3dfe794eb5b8",
   "metadata": {},
   "outputs": [
    {
     "name": "stdout",
     "output_type": "stream",
     "text": [
      "Average size of the file: 22.39 MB\n"
     ]
    }
   ],
   "source": [
    "print(f\"Average size of the file: {average_size / (1024 * 1024):.2f} MB\")"
   ]
  },
  {
   "cell_type": "code",
   "execution_count": 26,
   "id": "c8a2cdf7-3f9b-4475-84af-502e2f1ce28d",
   "metadata": {},
   "outputs": [],
   "source": [
    "count_records = df.filter(to_date(df.tpep_pickup_datetime) == \"2024-10-15\").count()"
   ]
  },
  {
   "cell_type": "code",
   "execution_count": 27,
   "id": "7a7d3415-69b3-4e90-8b83-cc441c45a0f8",
   "metadata": {},
   "outputs": [
    {
     "name": "stdout",
     "output_type": "stream",
     "text": [
      "Number of records with pickup date 2024-10-15: 128893\n"
     ]
    }
   ],
   "source": [
    "print(f\"Number of records with pickup date 2024-10-15: {count_records}\")"
   ]
  },
  {
   "cell_type": "code",
   "execution_count": 29,
   "id": "3c56f8ce-5376-4154-a084-54bef7485cf5",
   "metadata": {},
   "outputs": [],
   "source": [
    "df_trip_duration_hours = df.withColumn(\"trip_duration_hours\", \n",
    "                   (unix_timestamp(col(\"tpep_dropoff_datetime\")) - unix_timestamp(col(\"tpep_pickup_datetime\"))) / 3600)"
   ]
  },
  {
   "cell_type": "code",
   "execution_count": 31,
   "id": "8d045c4e-84dd-4a93-842e-7af2e0fb35d7",
   "metadata": {},
   "outputs": [],
   "source": [
    "max_trip_duration = df_trip_duration_hours.select(max(\"trip_duration_hours\")).collect()[0][0]"
   ]
  },
  {
   "cell_type": "code",
   "execution_count": 32,
   "id": "0775bd36-b651-4d01-9037-72315ee7add1",
   "metadata": {},
   "outputs": [
    {
     "name": "stdout",
     "output_type": "stream",
     "text": [
      "The longest trip lasted: 162.62 hours\n"
     ]
    }
   ],
   "source": [
    "print(f\"The longest trip lasted: {max_trip_duration:.2f} hours\")"
   ]
  },
  {
   "cell_type": "code",
   "execution_count": 34,
   "id": "6ed2e31c-98ec-4d2b-83d1-cca921b76279",
   "metadata": {},
   "outputs": [],
   "source": [
    "# Spark’s User Interface which shows the application's dashboard runs on which local port?\n",
    "# 4040"
   ]
  },
  {
   "cell_type": "code",
   "execution_count": 39,
   "id": "ab79ec92-6702-4c1b-8f49-8029a484c445",
   "metadata": {},
   "outputs": [],
   "source": [
    "zone_lookup_url = \"https://d37ci6vzurychx.cloudfront.net/misc/taxi_zone_lookup.csv\"\n",
    "zone_lookup_path = \"/tmp/taxi_zone_lookup.csv\"\n",
    "\n",
    "with open(zone_lookup_path, 'wb') as f:\n",
    "    f.write(requests.get(zone_lookup_url).content)"
   ]
  },
  {
   "cell_type": "code",
   "execution_count": 40,
   "id": "4b04a559-4856-4cc6-a556-a294b5ab1118",
   "metadata": {},
   "outputs": [],
   "source": [
    "zone_lookup_df = spark.read.option(\"header\", \"true\").csv(zone_lookup_path)"
   ]
  },
  {
   "cell_type": "code",
   "execution_count": 41,
   "id": "df088ba5-bd12-4f59-a73d-3cdbdec673d5",
   "metadata": {},
   "outputs": [],
   "source": [
    "pickup_counts = df.groupBy(\"PULocationID\").agg(count(\"*\").alias(\"trip_count\"))"
   ]
  },
  {
   "cell_type": "code",
   "execution_count": 42,
   "id": "885f8cf5-ad72-4b17-8399-b957ee608519",
   "metadata": {},
   "outputs": [],
   "source": [
    "pickup_counts_with_zones = pickup_counts.join(zone_lookup_df, pickup_counts.PULocationID == zone_lookup_df.LocationID, \"left\")"
   ]
  },
  {
   "cell_type": "code",
   "execution_count": 43,
   "id": "fa5fda7f-dec3-49b6-8c80-0a77bab5aa92",
   "metadata": {},
   "outputs": [],
   "source": [
    "least_frequent_zone = pickup_counts_with_zones.orderBy(asc(\"trip_count\")).select(\"Zone\", \"trip_count\").limit(1)"
   ]
  },
  {
   "cell_type": "code",
   "execution_count": 44,
   "id": "2cefd1ae-6612-4272-af55-8a16a38b8b23",
   "metadata": {},
   "outputs": [
    {
     "name": "stdout",
     "output_type": "stream",
     "text": [
      "+--------------------+----------+\n",
      "|                Zone|trip_count|\n",
      "+--------------------+----------+\n",
      "|Governor's Island...|         1|\n",
      "+--------------------+----------+\n",
      "\n"
     ]
    }
   ],
   "source": [
    "least_frequent_zone.show()"
   ]
  },
  {
   "cell_type": "code",
   "execution_count": null,
   "id": "7f267274-b69b-4257-9bfe-c4fb05308222",
   "metadata": {},
   "outputs": [],
   "source": []
  }
 ],
 "metadata": {
  "kernelspec": {
   "display_name": "Python 3 (ipykernel)",
   "language": "python",
   "name": "python3"
  },
  "language_info": {
   "codemirror_mode": {
    "name": "ipython",
    "version": 3
   },
   "file_extension": ".py",
   "mimetype": "text/x-python",
   "name": "python",
   "nbconvert_exporter": "python",
   "pygments_lexer": "ipython3",
   "version": "3.11.6"
  }
 },
 "nbformat": 4,
 "nbformat_minor": 5
}
